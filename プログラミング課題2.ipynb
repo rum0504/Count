{
  "nbformat": 4,
  "nbformat_minor": 0,
  "metadata": {
    "colab": {
      "name": "プログラミング課題2.ipynb",
      "provenance": [],
      "collapsed_sections": []
    },
    "kernelspec": {
      "name": "python3",
      "display_name": "Python 3"
    }
  },
  "cells": [
    {
      "cell_type": "code",
      "metadata": {
        "id": "gJbscNWgVJxl",
        "colab": {
          "base_uri": "https://localhost:8080/"
        },
        "outputId": "6dfdc333-26e9-47e6-87ec-e72d5867ea55"
      },
      "source": [
        "#numpyをインポート\n",
        "import numpy as np\n",
        "\n",
        "def walk(n_walker=10, nt=10):\n",
        "    pos = np.zeros((nt+1,n_walker),dtype=np.int32)\n",
        "    irand = 2*(np.random.randint(0,2,(nt,n_walker)))-1\n",
        "    for i in range(1,nt+1):\n",
        "        pos[i,:] = pos[i-1,:]+irand[i-1,:]\n",
        "\n",
        "    return pos\n",
        "\n",
        "nt = 500\n",
        "n_walker = 1000\n",
        "pos = walk(n_walker=n_walker,nt=nt)\n",
        "print('Number of walkers',n_walker)\n",
        "print('Average position:',pos[-1,:].mean())\n",
        "print('Variance:',pos[-1,:].var())\n",
        "print()"
      ],
      "execution_count": null,
      "outputs": [
        {
          "output_type": "stream",
          "text": [
            "Number of walkers 1000\n",
            "Average position: 1.228\n",
            "Variance: 478.428016\n",
            "\n"
          ],
          "name": "stdout"
        }
      ]
    }
  ]
}